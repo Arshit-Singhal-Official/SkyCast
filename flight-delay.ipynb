{
 "cells": [
  {
   "cell_type": "markdown",
   "id": "7273598d",
   "metadata": {},
   "source": [
    "# SkyCast: Know before you go\n",
    "\n",
    "This notebook covers comprehensive data cleaning, feature engineering, integrity checks, summary statistics, pattern identification, outlier handling, and visualizations for the flight delay dataset. The dataset used is the US DOT flight delays dataset from Kaggle."
   ]
  },
  {
   "cell_type": "code",
   "execution_count": null,
   "id": "4e151c6d",
   "metadata": {},
   "outputs": [],
   "source": [
    "import datetime, warnings, scipy \n",
    "import pandas as pd\n",
    "import numpy as np\n",
    "import seaborn as sns\n",
    "import matplotlib as mpl\n",
    "import matplotlib.pyplot as plt\n",
    "from collections import OrderedDict\n",
    "from matplotlib.gridspec import GridSpec\n",
    "from mpl_toolkits.basemap import Basemap\n",
    "warnings.filterwarnings(\"ignore\")\n",
    "plt.style.use('fivethirtyeight')\n",
    "%matplotlib inline"
   ]
  },
  {
   "cell_type": "markdown",
   "id": "01d50c2e",
   "metadata": {},
   "source": [
    "## 1. Data Loading & Overview\n",
    "\n",
    "Load the flights and airports datasets. Show variable types, missing values, and missing value percentages."
   ]
  },
  {
   "cell_type": "code",
   "execution_count": null,
   "id": "caf42c36",
   "metadata": {},
   "outputs": [],
   "source": [
    "flights = pd.read_csv('flights.csv', low_memory=False)\n",
    "airports = pd.read_csv('airports.csv')\n",
    "print('Flights shape:', flights.shape)\n",
    "tab_info = pd.DataFrame(flights.dtypes).T.rename(index={0:'column type'})\n",
    "tab_info = tab_info.append(pd.DataFrame(flights.isnull().sum()).T.rename(index={0:'null values (nb)'}))\n",
    "tab_info = tab_info.append(pd.DataFrame(flights.isnull().sum()/flights.shape[0]*100).T.rename(index={0:'null values (%)'}))\n",
    "tab_info"
   ]
  },
  {
   "cell_type": "markdown",
   "id": "07dd8fa1",
   "metadata": {},
   "source": [
    "## 2. Data Cleaning & Handling Missing Values\n",
    "\n",
    "Remove columns with excessive missingness, drop rows with critical missing values, and handle remaining missing data."
   ]
  },
  {
   "cell_type": "code",
   "execution_count": null,
   "id": "ba9f869a",
   "metadata": {},
   "outputs": [],
   "source": [
    "# Only keep January for faster EDA (as in tutorial)\n",
    "flights = flights[flights['MONTH'] == 1]\n",
    "\n",
    "# Convert date columns\n",
    "flights['DATE'] = pd.to_datetime(flights[['YEAR','MONTH','DAY']])\n",
    "\n",
    "# Remove columns not needed for EDA\n",
    "variables_to_remove = ['TAXI_OUT', 'TAXI_IN', 'WHEELS_ON', 'WHEELS_OFF', 'YEAR', \n",
    "                       'MONTH','DAY','DAY_OF_WEEK','DATE', 'AIR_SYSTEM_DELAY',\n",
    "                       'SECURITY_DELAY', 'AIRLINE_DELAY', 'LATE_AIRCRAFT_DELAY',\n",
    "                       'WEATHER_DELAY', 'DIVERTED', 'CANCELLED', 'CANCELLATION_REASON',\n",
    "                       'FLIGHT_NUMBER', 'TAIL_NUMBER', 'AIR_TIME']\n",
    "flights.drop(variables_to_remove, axis = 1, inplace = True, errors='ignore')\n",
    "\n",
    "# Drop rows with missing essential values\n",
    "essential = ['AIRLINE', 'ORIGIN_AIRPORT', 'DESTINATION_AIRPORT', 'SCHEDULED_DEPARTURE', 'DEPARTURE_DELAY']\n",
    "flights.dropna(subset=essential, inplace=True)\n",
    "\n",
    "# Fill remaining missing numeric values with median\n",
    "for col in flights.select_dtypes(include=[np.number]).columns:\n",
    "    flights[col] = flights[col].fillna(flights[col].median())\n",
    "\n",
    "# Final completeness check\n",
    "missing_df = flights.isnull().sum(axis=0).reset_index()\n",
    "missing_df.columns = ['variable', 'missing values']\n",
    "missing_df['filling factor (%)']=(flights.shape[0]-missing_df['missing values'])/flights.shape[0]*100\n",
    "missing_df.sort_values('filling factor (%)').reset_index(drop = True)"
   ]
  },
  {
   "cell_type": "markdown",
   "id": "7aecd132",
   "metadata": {},
   "source": [
    "## 3. Feature Engineering\n",
    "\n",
    "Convert scheduled departure to hour, create date and weekend features, and select relevant columns."
   ]
  },
  {
   "cell_type": "code",
   "execution_count": null,
   "id": "da927375",
   "metadata": {},
   "outputs": [],
   "source": [
    "# Helper to convert HHMM to hour\n",
    "def sched_hour(x):\n",
    "    x = str(int(x)).zfill(4)\n",
    "    return int(x[:2])\n",
    "flights['SCHED_DEP_HOUR'] = flights['SCHEDULED_DEPARTURE'].apply(sched_hour)\n",
    "flights['IS_WEEKEND'] = pd.to_datetime(flights['DATE']).dt.dayofweek >= 5"
   ]
  },
  {
   "cell_type": "markdown",
   "id": "279d6df9",
   "metadata": {},
   "source": [
    "## 4. Data Integrity & Consistency\n",
    "\n",
    "Check for duplicates, negative values, and impossible values."
   ]
  },
  {
   "cell_type": "code",
   "execution_count": null,
   "id": "8ce5b9aa",
   "metadata": {},
   "outputs": [],
   "source": [
    "flights = flights.drop_duplicates()\n",
    "print(\"Negative distances:\", (flights['DISTANCE'] < 0).sum())\n",
    "print(\"Negative departure delays:\", (flights['DEPARTURE_DELAY'] < 0).sum())"
   ]
  },
  {
   "cell_type": "markdown",
   "id": "fac37212",
   "metadata": {},
   "source": [
    "## 5. Summary Statistics\n",
    "\n",
    "Show summary statistics and initial insights."
   ]
  },
  {
   "cell_type": "code",
   "execution_count": null,
   "id": "f728fa67",
   "metadata": {},
   "outputs": [],
   "source": [
    "flights.describe(include='all')"
   ]
  },
  {
   "cell_type": "markdown",
   "id": "84a85721",
   "metadata": {},
   "source": [
    "## 6. Visualizing Airports\n",
    "\n",
    "Plot the locations of airports and number of flights per airport."
   ]
  },
  {
   "cell_type": "code",
   "execution_count": null,
   "id": "afbe1295",
   "metadata": {},
   "outputs": [],
   "source": [
    "count_flights = flights['ORIGIN_AIRPORT'].value_counts()\n",
    "plt.figure(figsize=(11,11))\n",
    "colors = ['yellow', 'red', 'lightblue', 'purple', 'green', 'orange']\n",
    "size_limits = [1, 100, 1000, 10000, 100000, 1000000]\n",
    "labels = []\n",
    "for i in range(len(size_limits)-1):\n",
    "    labels.append(\"{} <.< {}\".format(size_limits[i], size_limits[i+1])) \n",
    "map = Basemap(resolution='i',llcrnrlon=-180, urcrnrlon=-50,\n",
    "              llcrnrlat=10, urcrnrlat=75, lat_0=0, lon_0=0,)\n",
    "map.shadedrelief()\n",
    "map.drawcoastlines()\n",
    "map.drawcountries(linewidth = 3)\n",
    "map.drawstates(color='0.3')\n",
    "for index, (code, y,x) in airports[['IATA_CODE', 'LATITUDE', 'LONGITUDE']].iterrows():\n",
    "    if code not in count_flights: continue\n",
    "    x, y = map(x, y)\n",
    "    isize = [i for i, val in enumerate(size_limits) if val < count_flights[code]]\n",
    "    ind = isize[-1]\n",
    "    map.plot(x, y, marker='o', markersize = ind+5, markeredgewidth = 1, color = colors[ind],\n",
    "             markeredgecolor='k', label = labels[ind])\n",
    "handles, labels = plt.gca().get_legend_handles_labels()\n",
    "by_label = OrderedDict(zip(labels, handles))\n",
    "key_order = ('1 <.< 100', '100 <.< 1000', '1000 <.< 10000',\n",
    "             '10000 <.< 100000', '100000 <.< 1000000')\n",
    "new_label = OrderedDict()\n",
    "for key in key_order:\n",
    "    if key in by_label:\n",
    "        new_label[key] = by_label[key]\n",
    "plt.legend(new_label.values(), new_label.keys(), loc = 1, prop= {'size':11},\n",
    "           title='Number of flights per year', frameon = True, framealpha = 1)\n",
    "plt.show()"
   ]
  },
  {
   "cell_type": "markdown",
   "id": "cb60742a",
   "metadata": {},
   "source": [
    "## 7. Airline Delay Analysis\n",
    "\n",
    "Visualize airline statistics and delay distributions."
   ]
  },
  {
   "cell_type": "code",
   "execution_count": null,
   "id": "20321049",
   "metadata": {},
   "outputs": [],
   "source": [
    "airlines_names = pd.read_csv('airlines.csv')\n",
    "abbr_companies = airlines_names.set_index('IATA_CODE')['AIRLINE'].to_dict()\n",
    "df2 = flights.loc[:, ['AIRLINE', 'DEPARTURE_DELAY']]\n",
    "df2['AIRLINE'] = df2['AIRLINE'].replace(abbr_companies)\n",
    "plt.figure(figsize=(12,5))\n",
    "sns.boxplot(x='AIRLINE', y='DEPARTURE_DELAY', data=df2)\n",
    "plt.title('Departure Delay Distribution by Airline')\n",
    "plt.xticks(rotation=45)\n",
    "plt.show()"
   ]
  },
  {
   "cell_type": "code",
   "execution_count": null,
   "id": "928b444f",
   "metadata": {},
   "outputs": [],
   "source": [
    "delay_type = lambda x:((0,1)[x > 5],2)[x > 45]\n",
    "flights['DELAY_LEVEL'] = flights['DEPARTURE_DELAY'].apply(delay_type)\n",
    "plt.figure(figsize=(10,6))\n",
    "sns.countplot(y=\"AIRLINE\", hue='DELAY_LEVEL', data=flights)\n",
    "plt.title('Delay Levels by Airline')\n",
    "plt.show()"
   ]
  },
  {
   "cell_type": "markdown",
   "id": "2d7260b7",
   "metadata": {},
   "source": [
    "## 8. Delay Distribution by Airline\n",
    "\n",
    "Show normalized distribution of delays for each airline."
   ]
  },
  {
   "cell_type": "code",
   "execution_count": null,
   "id": "a40cb5ef",
   "metadata": {},
   "outputs": [],
   "source": [
    "def func(x, a, b):\n",
    "    return a * np.exp(-x/b)\n",
    "points = [] ; label_company = []\n",
    "fig = plt.figure(1, figsize=(11,11))\n",
    "i = 0\n",
    "for carrier_name in [abbr_companies[x] for x in flights['AIRLINE'].unique() if x in abbr_companies]:\n",
    "    i += 1\n",
    "    ax = fig.add_subplot(5,3,i)    \n",
    "    n, bins, patches = plt.hist(x = df2[df2['AIRLINE']==carrier_name]['DEPARTURE_DELAY'],\n",
    "                                range = (15,180), density=True, bins= 60)\n",
    "    bin_centers = bins[:-1] + 0.5 * (bins[1:] - bins[:-1])    \n",
    "    if len(bin_centers) > 0 and len(n) > 0:\n",
    "        try:\n",
    "            popt, pcov = scipy.optimize.curve_fit(func, bin_centers, n, p0 = [1, 2])\n",
    "            points.append(popt)\n",
    "            label_company.append(carrier_name)\n",
    "            plt.plot(bin_centers, func(bin_centers, *popt), 'r-', linewidth=3)\n",
    "        except:\n",
    "            pass\n",
    "    plt.title(carrier_name, fontsize = 10)\n",
    "plt.tight_layout()"
   ]
  },
  {
   "cell_type": "markdown",
   "id": "6b89a445",
   "metadata": {},
   "source": [
    "## 9. Departure vs Arrival Delays\n",
    "\n",
    "Compare mean delays at departure and arrival for each airline."
   ]
  },
  {
   "cell_type": "code",
   "execution_count": null,
   "id": "edc8d397",
   "metadata": {},
   "outputs": [],
   "source": [
    "plt.figure(figsize=(11,6))\n",
    "sns.barplot(x=\"DEPARTURE_DELAY\", y=\"AIRLINE\", data=flights, color=\"lightskyblue\", ci=None)\n",
    "sns.barplot(x=\"ARRIVAL_DELAY\", y=\"AIRLINE\", data=flights, color=\"r\", hatch = '///', alpha = 0.0, ci=None)\n",
    "plt.xlabel('Mean delay [min] (@departure: blue, @arrival: hatch lines)', fontsize=14)\n",
    "plt.show()"
   ]
  },
  {
   "cell_type": "markdown",
   "id": "1fad4afc",
   "metadata": {},
   "source": [
    "## 10. Airport Analysis\n",
    "\n",
    "Show number of airports, mean delays by airport, and heatmap for a subset."
   ]
  },
  {
   "cell_type": "code",
   "execution_count": null,
   "id": "cbe43f10",
   "metadata": {},
   "outputs": [],
   "source": [
    "airport_mean_delays = pd.DataFrame(pd.Series(flights['ORIGIN_AIRPORT'].unique()))\n",
    "airport_mean_delays.set_index(0, drop = True, inplace = True)\n",
    "for carrier in abbr_companies.keys():\n",
    "    df1 = flights[flights['AIRLINE'] == carrier]\n",
    "    test = df1['DEPARTURE_DELAY'].groupby(flights['ORIGIN_AIRPORT']).mean()\n",
    "    airport_mean_delays[carrier] = test\n",
    "subset = airport_mean_delays.iloc[:50,:].rename(columns = abbr_companies)\n",
    "plt.figure(figsize=(12,8))\n",
    "sns.heatmap(subset, cmap=\"Accent\", vmin=0, vmax=35)\n",
    "plt.title('Mean Departure Delay by Airport (subset)')\n",
    "plt.show()"
   ]
  },
  {
   "cell_type": "markdown",
   "id": "50a2e803",
   "metadata": {},
   "source": [
    "## 11. Temporal Analysis\n",
    "\n",
    "Analyze delay trends by scheduled hour."
   ]
  },
  {
   "cell_type": "code",
   "execution_count": null,
   "id": "ce2f21d0",
   "metadata": {},
   "outputs": [],
   "source": [
    "hourly_delay = flights.groupby('SCHED_DEP_HOUR')['DEPARTURE_DELAY'].mean()\n",
    "plt.figure(figsize=(10,4))\n",
    "sns.lineplot(x=hourly_delay.index, y=hourly_delay.values)\n",
    "plt.title('Average Departure Delay by Scheduled Hour')\n",
    "plt.xlabel('Scheduled Departure Hour')\n",
    "plt.ylabel('Average Delay (min)')\n",
    "plt.show()"
   ]
  },
  {
   "cell_type": "markdown",
   "id": "da14300c",
   "metadata": {},
   "source": [
    "## 12. Outlier Handling\n",
    "\n",
    "Visualize and cap outliers in delay columns."
   ]
  },
  {
   "cell_type": "code",
   "execution_count": null,
   "id": "0425a787",
   "metadata": {},
   "outputs": [],
   "source": [
    "plt.figure(figsize=(8,4))\n",
    "sns.histplot(flights['DEPARTURE_DELAY'], bins=100, kde=True)\n",
    "plt.xlim(-20, 200)\n",
    "plt.title('Histogram of Departure Delays')\n",
    "plt.show()\n",
    "delay_cap = flights['DEPARTURE_DELAY'].mean() + 3*flights['DEPARTURE_DELAY'].std()\n",
    "flights['DEPARTURE_DELAY_CAPPED'] = np.where(flights['DEPARTURE_DELAY'] > delay_cap, delay_cap, flights['DEPARTURE_DELAY'])"
   ]
  },
  {
   "cell_type": "markdown",
   "id": "645748e0",
   "metadata": {},
   "source": [
    "## 13. Initial Visual Representation of Key Findings\n",
    "\n",
    "Show key findings with simple plots."
   ]
  },
  {
   "cell_type": "code",
   "execution_count": null,
   "id": "68a87674",
   "metadata": {},
   "outputs": [],
   "source": [
    "plt.figure(figsize=(6,4))\n",
    "sns.boxplot(x='IS_WEEKEND', y='DEPARTURE_DELAY_CAPPED', data=flights)\n",
    "plt.title('Departure Delay by Weekend/Weekday')\n",
    "plt.xticks([0,1], ['Weekday', 'Weekend'])\n",
    "plt.show()"
   ]
  },
  {
   "cell_type": "code",
   "execution_count": null,
   "id": "d4f3ef4d",
   "metadata": {},
   "outputs": [],
   "source": [
    "top_airports = flights.groupby('ORIGIN_AIRPORT')['DEPARTURE_DELAY_CAPPED'].mean().sort_values(ascending=False).head(10)\n",
    "plt.figure(figsize=(10,4))\n",
    "sns.barplot(x=top_airports.index, y=top_airports.values)\n",
    "plt.title('Top 10 Origin Airports by Average Departure Delay')\n",
    "plt.xlabel('Origin Airport')\n",
    "plt.ylabel('Avg Departure Delay (min)')\n",
    "plt.show()"
   ]
  },
  {
   "cell_type": "markdown",
   "id": "6b47f9bd",
   "metadata": {},
   "source": [
    "## 14. Summary\n",
    "\n",
    "- Data cleaned, missing values handled, features engineered.\n",
    "- Outliers capped for robust analysis.\n",
    "- Patterns: Delays increase later in the day, vary by airline and airport.\n",
    "- Initial visualizations highlight key trends for further modeling."
   ]
  }
 ],
 "metadata": {
  "language_info": {
   "name": "python"
  }
 },
 "nbformat": 4,
 "nbformat_minor": 5
}
